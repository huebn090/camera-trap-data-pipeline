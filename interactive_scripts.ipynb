{
 "cells": [
  {
   "cell_type": "markdown",
   "metadata": {},
   "source": [
    "# Camera-Trap-Data-Pipeline\n",
    "\n",
    "Scripts to process camera trap images."
   ]
  },
  {
   "cell_type": "code",
   "execution_count": null,
   "metadata": {},
   "outputs": [],
   "source": [
    "# Load important packages\n",
    "import os\n",
    "import qgrid\n",
    "import pandas as pd"
   ]
  },
  {
   "cell_type": "markdown",
   "metadata": {},
   "source": [
    "## Parameters \n",
    "\n",
    "Here we select / define the paramters of the current run: Choose the appropriate cell and execute it."
   ]
  },
  {
   "cell_type": "code",
   "execution_count": null,
   "metadata": {},
   "outputs": [],
   "source": [
    "###################################\n",
    "# Grumeti\n",
    "####################################\n",
    "\n",
    "SITE='GRU'\n",
    "\n",
    "SEASON='GRU_S1'\n",
    "\n",
    "PROJECT_ID='5115'\n",
    "\n",
    "WORKFLOW_ID='4979'\n",
    "\n",
    "WORKFLOW_VERSION_MIN='275'\n",
    "\n",
    "ATTRIBUTION=\"'University of Minnesota Lion Center + Snapshot Safari + Singita Grumeti + Tanzania'\"\n",
    "\n",
    "LICENSE=\"'Snapshot Safari + Singita Grumeti'\""
   ]
  },
  {
   "cell_type": "code",
   "execution_count": null,
   "metadata": {},
   "outputs": [],
   "source": [
    "###################################\n",
    "# RUA\n",
    "####################################\n",
    "\n",
    "SITE='RUA'\n",
    "\n",
    "SEASON='RUA_S1'\n",
    "\n",
    "PROJECT_ID='5155'\n",
    "\n",
    "WORKFLOW_ID='4889'\n",
    "\n",
    "WORKFLOW_VERSION_MIN='797'\n",
    "\n",
    "ATTRIBUTION=''\n",
    "\n",
    "LICENSE=''"
   ]
  },
  {
   "cell_type": "code",
   "execution_count": null,
   "metadata": {},
   "outputs": [],
   "source": [
    "###################################\n",
    "# Mountain Zebra\n",
    "####################################\n",
    "\n",
    "SITE='MTZ'\n",
    "\n",
    "SEASON='MTZ_S1'\n",
    "\n",
    "PROJECT_ID='5124'\n",
    "\n",
    "WORKFLOW_ID='8814'\n",
    "\n",
    "WORKFLOW_VERSION_MIN='247'\n",
    "\n",
    "ATTRIBUTION=''\n",
    "\n",
    "LICENSE=''"
   ]
  },
  {
   "cell_type": "code",
   "execution_count": null,
   "metadata": {},
   "outputs": [],
   "source": [
    "###################################\n",
    "# Karoo\n",
    "####################################\n",
    "\n",
    "SITE='KAR'\n",
    "\n",
    "SEASON='KAR_S1'\n",
    "\n",
    "PROJECT_ID='7679'\n",
    "\n",
    "WORKFLOW_ID='8789'\n",
    "\n",
    "WORKFLOW_VERSION_MIN='237.7'\n",
    "\n",
    "ATTRIBUTION=''\n",
    "\n",
    "LICENSE=''"
   ]
  },
  {
   "cell_type": "code",
   "execution_count": null,
   "metadata": {},
   "outputs": [],
   "source": [
    "###################################\n",
    "# Karoo TEST\n",
    "####################################\n",
    "\n",
    "SITE='KAR_TEST'\n",
    "\n",
    "SEASON='KAR_S1'\n",
    "\n",
    "PROJECT_ID='7679'\n",
    "\n",
    "WORKFLOW_ID='8789'\n",
    "\n",
    "WORKFLOW_VERSION_MIN='237.7'\n",
    "\n",
    "ATTRIBUTION=''\n",
    "\n",
    "LICENSE=''"
   ]
  },
  {
   "cell_type": "markdown",
   "metadata": {},
   "source": [
    "### Set the Paramters\n",
    "\n",
    "Here we actually set the parameters."
   ]
  },
  {
   "cell_type": "code",
   "execution_count": null,
   "metadata": {},
   "outputs": [],
   "source": [
    "os.environ[\"SITE\"] = SITE\n",
    "os.environ[\"SEASON\"] = SEASON\n",
    "os.environ[\"PROJECT_ID\"] = PROJECT_ID\n",
    "os.environ[\"WORKFLOW_ID\"] = WORKFLOW_ID\n",
    "os.environ[\"WORKFLOW_VERSION_MIN\"] = WORKFLOW_VERSION_MIN\n",
    "os.environ[\"ATTRIBUTION\"] = ATTRIBUTION\n",
    "os.environ[\"LICENSE\"] = LICENSE"
   ]
  },
  {
   "cell_type": "markdown",
   "metadata": {},
   "source": [
    "Lets check if the parameters have been set correctly."
   ]
  },
  {
   "cell_type": "code",
   "execution_count": null,
   "metadata": {},
   "outputs": [],
   "source": [
    "print(\"Selected: site: {} season: {} project_id: {} workflow_id: {} workflow_version_min: {} attribution: {} license: {}\".format(\n",
    "    SITE, SEASON, PROJECT_ID, WORKFLOW_ID, WORKFLOW_VERSION_MIN, ATTRIBUTION, LICENSE))\n",
    "print(os.environ['SITE'])\n",
    "print(os.environ['SEASON'])"
   ]
  },
  {
   "cell_type": "markdown",
   "metadata": {},
   "source": [
    "## Start the Pre-Processing"
   ]
  },
  {
   "cell_type": "code",
   "execution_count": null,
   "metadata": {},
   "outputs": [],
   "source": [
    "# Check Input Structure\n",
    "!python3 -m pre_processing.check_input_structure \\\n",
    "--root_dir /home/packerc/shared/albums/{SITE}/{SEASON}/ \\\n",
    "--log_dir /home/packerc/shared/season_captures/{SITE}/log_files/"
   ]
  },
  {
   "cell_type": "code",
   "execution_count": null,
   "metadata": {},
   "outputs": [],
   "source": [
    "# check for duplicates - this can take a while for large batches >> 100k images\n",
    "!python3 -m pre_processing.check_for_duplicates \\\n",
    "--root_dir /home/packerc/shared/albums/{SITE}/{SEASON}/ \\\n",
    "--log_dir /home/packerc/shared/season_captures/{SITE}/log_files/"
   ]
  },
  {
   "cell_type": "code",
   "execution_count": null,
   "metadata": {},
   "outputs": [],
   "source": [
    "# Create Image Inventory\n",
    "!python3 -m pre_processing.create_image_inventory \\\n",
    "--root_dir /home/packerc/shared/albums/{SITE}/{SEASON}/ \\\n",
    "--output_csv /home/packerc/shared/season_captures/{SITE}/inventory/{SEASON}_inventory_basic.csv \\\n",
    "--log_dir /home/packerc/shared/season_captures/{SITE}/log_files/"
   ]
  },
  {
   "cell_type": "markdown",
   "metadata": {},
   "source": [
    "## Download Zooniverse Data\n",
    "\n",
    "We can download Zooniverse data through Python."
   ]
  },
  {
   "cell_type": "code",
   "execution_count": null,
   "metadata": {},
   "outputs": [],
   "source": [
    "!python3 -m zooniverse_exports.get_zooniverse_export \\\n",
    "--password_file ~/keys/passwords.ini \\\n",
    "--project_id {PROJECT_ID} \\\n",
    "--output_file /home/packerc/shared/zooniverse/Exports/{SITE}/{SEASON}_classifications.csv \\\n",
    "--export_type classifications \\\n",
    "--log_dir /home/packerc/shared/zooniverse/Exports/{SITE}/"
   ]
  },
  {
   "cell_type": "code",
   "execution_count": null,
   "metadata": {},
   "outputs": [],
   "source": [
    "# Get Zooniverse Subject Data\n",
    "!python3 -m zooniverse_exports.get_zooniverse_export \\\n",
    "--password_file ~/keys/passwords.ini \\\n",
    "--project_id {PROJECT_ID} \\\n",
    "--output_file /home/packerc/shared/zooniverse/Exports/{SITE}/{SEASON}_subjects.csv \\\n",
    "--export_type subjects \\\n",
    "--log_dir /home/packerc/shared/zooniverse/Exports/{SITE}/"
   ]
  },
  {
   "cell_type": "code",
   "execution_count": null,
   "metadata": {},
   "outputs": [],
   "source": [
    "# Extract Annotations\n",
    "!python3 -m zooniverse_exports.extract_annotations \\\n",
    "--classification_csv /home/packerc/shared/zooniverse/Exports/{SITE}/{SEASON}_classifications.csv \\\n",
    "--output_csv /home/packerc/shared/zooniverse/Exports/{SITE}/{SEASON}_annotations.csv \\\n",
    "--workflow_id {WORKFLOW_ID} \\\n",
    "--workflow_version_min {WORKFLOW_VERSION_MIN}"
   ]
  },
  {
   "cell_type": "code",
   "execution_count": null,
   "metadata": {},
   "outputs": [],
   "source": [
    "# Extract Subject Data\n",
    "!python3 -m zooniverse_exports.extract_subjects \\\n",
    "--subject_csv /home/packerc/shared/zooniverse/Exports/{SITE}/{SEASON}_subjects.csv \\\n",
    "--output_csv /home/packerc/shared/zooniverse/Exports/{SITE}/{SEASON}_subjects_extracted.csv"
   ]
  },
  {
   "cell_type": "markdown",
   "metadata": {},
   "source": [
    "## Post-Zooniverse Processing\n",
    "\n",
    "The following codes are for downloading, extracting, and aggregating Zooniverse data and to create ConsensusReports."
   ]
  },
  {
   "cell_type": "code",
   "execution_count": null,
   "metadata": {},
   "outputs": [],
   "source": [
    "!python3 -m zooniverse_aggregations.aggregate_annotations_plurality \\\n",
    "--annotations /home/packerc/shared/zooniverse/Exports/{SITE}/{SEASON}_annotations.csv \\\n",
    "--output_csv /home/packerc/shared/zooniverse/Aggregations/{SITE}/{SEASON}_annotations_aggregated_plurality.csv \\\n",
    "--log_dir /home/packerc/shared/zooniverse/Aggregations/{SITE}/"
   ]
  },
  {
   "cell_type": "code",
   "execution_count": null,
   "metadata": {},
   "outputs": [],
   "source": [
    "# Now we add subject infos to the aggregations\n",
    "!python3 -m zooniverse_exports.merge_csvs \\\n",
    "--base_csv /home/packerc/shared/zooniverse/Aggregations/{SITE}/{SEASON}_annotations_aggregated_plurality.csv \\\n",
    "--to_add_csv /home/packerc/shared/zooniverse/Exports/{SITE}/{SEASON}_subjects_extracted.csv \\\n",
    "--output_csv /home/packerc/shared/zooniverse/Aggregations/{SITE}/{SEASON}_annotations_aggregated_plurality_info.csv \\\n",
    "--key subject_id"
   ]
  },
  {
   "cell_type": "code",
   "execution_count": null,
   "metadata": {},
   "outputs": [],
   "source": [
    "tt = pd.read_csv('/home/packerc/shared/season_captures/ENO/captures/ENO_S1_action_list.csv')\n",
    "tt.fillna('', inplace=True)"
   ]
  },
  {
   "cell_type": "code",
   "execution_count": null,
   "metadata": {},
   "outputs": [],
   "source": [
    "tt.head"
   ]
  },
  {
   "cell_type": "code",
   "execution_count": null,
   "metadata": {},
   "outputs": [],
   "source": [
    "df_show = qgrid.show_grid(tt, show_toolbar=True, )\n",
    "df_show"
   ]
  },
  {
   "cell_type": "code",
   "execution_count": null,
   "metadata": {},
   "outputs": [],
   "source": [
    "qgrid.show_grid(tt, row_edit_callback=can_edit_row)"
   ]
  },
  {
   "cell_type": "code",
   "execution_count": null,
   "metadata": {},
   "outputs": [],
   "source": [
    "tt = tt.insert_(pd.Series())"
   ]
  }
 ],
 "metadata": {
  "kernelspec": {
   "display_name": "Python 3",
   "language": "python",
   "name": "python3"
  },
  "language_info": {
   "codemirror_mode": {
    "name": "ipython",
    "version": 3
   },
   "file_extension": ".py",
   "mimetype": "text/x-python",
   "name": "python",
   "nbconvert_exporter": "python",
   "pygments_lexer": "ipython3",
   "version": "3.6.8"
  }
 },
 "nbformat": 4,
 "nbformat_minor": 1
}
