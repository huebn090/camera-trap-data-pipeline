{
 "cells": [
  {
   "cell_type": "markdown",
   "metadata": {},
   "source": [
    "# Camera-Trap-Data-Pipeline\n",
    "\n",
    "Pre-configured scripts for easy running of the different code blocks. See https://github.com/marco-willi/camera-trap-data-pipeline for more details.\n",
    "\n",
    "The following codes can be run by selecting a cell (via mouse or arrow keys) and then pressing CTRL+Enter."
   ]
  },
  {
   "cell_type": "code",
   "execution_count": null,
   "metadata": {},
   "outputs": [],
   "source": [
    "# Load important modules\n",
    "import os\n",
    "import pandas as pd"
   ]
  },
  {
   "cell_type": "markdown",
   "metadata": {},
   "source": [
    "## Parameters \n",
    "\n",
    "Here we select / define the paramters of the current run: Choose the appropriate cell and execute or modify it. For a new season: create a new cell using the 'Insert' menu at the top."
   ]
  },
  {
   "cell_type": "code",
   "execution_count": null,
   "metadata": {},
   "outputs": [],
   "source": [
    "###################################\n",
    "# Template\n",
    "####################################\n",
    "\n",
    "SITE=''\n",
    "\n",
    "SEASON=''\n",
    "\n",
    "PROJECT_ID=''\n",
    "\n",
    "WORKFLOW_ID=''\n",
    "\n",
    "WORKFLOW_VERSION_MIN=''\n",
    "\n",
    "ATTRIBUTION=\"''\"\n",
    "\n",
    "LICENSE=\"''\""
   ]
  },
  {
   "cell_type": "code",
   "execution_count": null,
   "metadata": {},
   "outputs": [],
   "source": [
    "###################################\n",
    "# Grumeti\n",
    "####################################\n",
    "\n",
    "SITE='GRU'\n",
    "\n",
    "SEASON='GRU_S1'\n",
    "\n",
    "PROJECT_ID='5115'\n",
    "\n",
    "WORKFLOW_ID='4979'\n",
    "\n",
    "WORKFLOW_VERSION_MIN='275'\n",
    "\n",
    "ATTRIBUTION=\"'University of Minnesota Lion Center + Snapshot Safari + Singita Grumeti + Tanzania'\"\n",
    "\n",
    "LICENSE=\"'Snapshot Safari + Singita Grumeti'\""
   ]
  },
  {
   "cell_type": "code",
   "execution_count": null,
   "metadata": {},
   "outputs": [],
   "source": [
    "###################################\n",
    "# RUA\n",
    "####################################\n",
    "\n",
    "SITE='RUA'\n",
    "\n",
    "SEASON='RUA_S1'\n",
    "\n",
    "PROJECT_ID='5155'\n",
    "\n",
    "WORKFLOW_ID='4889'\n",
    "\n",
    "WORKFLOW_VERSION_MIN='797'\n",
    "\n",
    "ATTRIBUTION=''\n",
    "\n",
    "LICENSE=''"
   ]
  },
  {
   "cell_type": "code",
   "execution_count": null,
   "metadata": {},
   "outputs": [],
   "source": [
    "###################################\n",
    "# Mountain Zebra\n",
    "####################################\n",
    "\n",
    "SITE='MTZ'\n",
    "\n",
    "SEASON='MTZ_S1'\n",
    "\n",
    "PROJECT_ID='5124'\n",
    "\n",
    "WORKFLOW_ID='8814'\n",
    "\n",
    "WORKFLOW_VERSION_MIN='247'\n",
    "\n",
    "ATTRIBUTION=''\n",
    "\n",
    "LICENSE=''"
   ]
  },
  {
   "cell_type": "code",
   "execution_count": null,
   "metadata": {},
   "outputs": [],
   "source": [
    "###################################\n",
    "# Karoo\n",
    "####################################\n",
    "\n",
    "SITE='KAR'\n",
    "\n",
    "SEASON='KAR_S1'\n",
    "\n",
    "PROJECT_ID='7679'\n",
    "\n",
    "WORKFLOW_ID='8789'\n",
    "\n",
    "WORKFLOW_VERSION_MIN='237.7'\n",
    "\n",
    "ATTRIBUTION=''\n",
    "\n",
    "LICENSE=''"
   ]
  },
  {
   "cell_type": "code",
   "execution_count": null,
   "metadata": {},
   "outputs": [],
   "source": [
    "###################################\n",
    "# Karoo TEST\n",
    "####################################\n",
    "\n",
    "SITE='KAR_TEST'\n",
    "\n",
    "SEASON='KAR_S1'\n",
    "\n",
    "PROJECT_ID='7679'\n",
    "\n",
    "WORKFLOW_ID='8789'\n",
    "\n",
    "WORKFLOW_VERSION_MIN='237.7'\n",
    "\n",
    "ATTRIBUTION=''\n",
    "\n",
    "LICENSE=''"
   ]
  },
  {
   "cell_type": "code",
   "execution_count": null,
   "metadata": {},
   "outputs": [],
   "source": [
    "###################################\n",
    "# KRU \n",
    "####################################\n",
    "\n",
    "SITE='KRU'\n",
    "\n",
    "SEASON='KRU_S1'\n",
    "\n",
    "PROJECT_ID=''\n",
    "\n",
    "WORKFLOW_ID=''\n",
    "\n",
    "WORKFLOW_VERSION_MIN=''\n",
    "\n",
    "ATTRIBUTION=''\n",
    "\n",
    "LICENSE=''"
   ]
  },
  {
   "cell_type": "markdown",
   "metadata": {},
   "source": [
    "### Verify Parameters\n",
    "\n",
    "Lets check the paramters."
   ]
  },
  {
   "cell_type": "code",
   "execution_count": null,
   "metadata": {},
   "outputs": [],
   "source": [
    "print(\"Selected: site: {} \\nseason: {} \\nproject_id: {} \\nworkflow_id: {} \\nworkflow_version_min: {} \\nattribution: {} \\nlicense: {}\".format(\n",
    "    SITE, SEASON, PROJECT_ID, WORKFLOW_ID, WORKFLOW_VERSION_MIN, ATTRIBUTION, LICENSE))"
   ]
  },
  {
   "cell_type": "markdown",
   "metadata": {},
   "source": [
    "## Start the Pre-Processing"
   ]
  },
  {
   "cell_type": "code",
   "execution_count": null,
   "metadata": {},
   "outputs": [],
   "source": [
    "# Check Input Structure\n",
    "!python3 -m pre_processing.check_input_structure \\\n",
    "--root_dir /home/packerc/shared/albums/{SITE}/{SEASON}/ \\\n",
    "--log_dir /home/packerc/shared/season_captures/{SITE}/log_files/"
   ]
  },
  {
   "cell_type": "code",
   "execution_count": null,
   "metadata": {},
   "outputs": [],
   "source": [
    "# check for duplicates - this can take a while for large batches >> 100k images\n",
    "!python3 -m pre_processing.check_for_duplicates \\\n",
    "--root_dir /home/packerc/shared/albums/{SITE}/{SEASON}/ \\\n",
    "--log_dir /home/packerc/shared/season_captures/{SITE}/log_files/"
   ]
  },
  {
   "cell_type": "code",
   "execution_count": null,
   "metadata": {},
   "outputs": [],
   "source": [
    "# Create Image Inventory\n",
    "!python3 -m pre_processing.create_image_inventory \\\n",
    "--root_dir /home/packerc/shared/albums/{SITE}/{SEASON}/ \\\n",
    "--output_csv /home/packerc/shared/season_captures/{SITE}/inventory/{SEASON}_inventory_basic.csv \\\n",
    "--log_dir /home/packerc/shared/season_captures/{SITE}/log_files/"
   ]
  },
  {
   "cell_type": "code",
   "execution_count": null,
   "metadata": {},
   "outputs": [],
   "source": [
    "# Perform basic Checks\n",
    "!python3 -m pre_processing.basic_inventory_checks \\\n",
    "--inventory /home/packerc/shared/season_captures/{SITE}/inventory/{SEASON}_inventory_basic.csv \\\n",
    "--output_csv /home/packerc/shared/season_captures/{SITE}/inventory/{SEASON}_inventory.csv \\\n",
    "--log_dir /home/packerc/shared/season_captures/{SITE}/log_files/ \\\n",
    "--n_processes 16"
   ]
  },
  {
   "cell_type": "code",
   "execution_count": null,
   "metadata": {},
   "outputs": [],
   "source": [
    "# Perform basic Checks (QSUB Version for larger seasons)\n",
    "!qsub -v SITE={SITE},SEASON={SEASON} basic_inventory_checks.pbs"
   ]
  },
  {
   "cell_type": "markdown",
   "metadata": {},
   "source": [
    "If we use the qsub version of the script we need to wait until it has completed. We can check the status of the script using the following command. 'Q' indicates the job is in the qeue and has not yet executed. 'C' means the job has finished. 'R' means the job is running."
   ]
  },
  {
   "cell_type": "code",
   "execution_count": null,
   "metadata": {},
   "outputs": [],
   "source": [
    "!qstat"
   ]
  },
  {
   "cell_type": "markdown",
   "metadata": {},
   "source": [
    "Once the job is running we can check the status of the log file using this command:"
   ]
  },
  {
   "cell_type": "code",
   "execution_count": null,
   "metadata": {},
   "outputs": [],
   "source": [
    "!tail /home/packerc/shared/season_captures/{SITE}/log_files/"
   ]
  },
  {
   "cell_type": "code",
   "execution_count": null,
   "metadata": {},
   "outputs": [],
   "source": [
    "# Extract EXIF data\n",
    "!python3 -m pre_processing.extract_exif_data \\\n",
    "--inventory /home/packerc/shared/season_captures/{SITE}/inventory/{SEASON}_inventory.csv \\\n",
    "--update_inventory \\\n",
    "--output_csv /home/packerc/shared/season_captures/{SITE}/inventory/{SEASON}_exif_data.csv \\\n",
    "--exiftool_path /home/packerc/shared/programs/Image-ExifTool-11.31/exiftool \\\n",
    "--log_dir /home/packerc/shared/season_captures/{SITE}/log_files/"
   ]
  },
  {
   "cell_type": "code",
   "execution_count": null,
   "metadata": {},
   "outputs": [],
   "source": [
    "# Group Images into Captures\n",
    "!python3 -m pre_processing.group_inventory_into_captures \\\n",
    "--inventory /home/packerc/shared/season_captures/{SITE}/inventory/{SEASON}_inventory.csv \\\n",
    "--output_csv /home/packerc/shared/season_captures/{SITE}/captures/{SEASON}_captures.csv \\\n",
    "--log_dir /home/packerc/shared/season_captures/{SITE}/log_files/ \\\n",
    "--no_older_than_year 2017 \\\n",
    "--no_newer_than_year 2019"
   ]
  },
  {
   "cell_type": "code",
   "execution_count": null,
   "metadata": {},
   "outputs": [],
   "source": [
    "# Rename all images\n",
    "!python3 -m pre_processing.rename_images \\\n",
    "--inventory /home/packerc/shared/season_captures/{SITE}/captures/{SEASON}_captures.csv \\\n",
    "--log_dir /home/packerc/shared/season_captures/{SITE}/log_files/"
   ]
  },
  {
   "cell_type": "code",
   "execution_count": null,
   "metadata": {},
   "outputs": [],
   "source": [
    "# Generate Action List\n",
    "!python3 -m pre_processing.create_action_list \\\n",
    "--captures /home/packerc/shared/season_captures/{SITE}/captures/{SEASON}_captures.csv \\\n",
    "--action_list_csv /home/packerc/shared/season_captures/{SITE}/captures/{SEASON}_action_list.csv \\\n",
    "--log_dir /home/packerc/shared/season_captures/{SITE}/log_files/ \\\n",
    "--plot_timelines"
   ]
  },
  {
   "cell_type": "code",
   "execution_count": null,
   "metadata": {},
   "outputs": [],
   "source": [
    "# Generate Actions\n",
    "!python3 -m pre_processing.generate_actions \\\n",
    "--captures /home/packerc/shared/season_captures/{SITE}/captures/{SEASON}_captures.csv \\\n",
    "--action_list /home/packerc/shared/season_captures/{SITE}/captures/{SEASON}_action_list.csv \\\n",
    "--actions_to_perform_csv /home/packerc/shared/season_captures/{SITE}/captures/{SEASON}_actions_to_perform.csv \\\n",
    "--log_dir /home/packerc/shared/season_captures/{SITE}/log_files/"
   ]
  },
  {
   "cell_type": "code",
   "execution_count": null,
   "metadata": {},
   "outputs": [],
   "source": [
    "# Apply Actions\n",
    "!python3 -m pre_processing.apply_actions \\\n",
    "--captures /home/packerc/shared/season_captures/{SITE}/captures/{SEASON}_captures.csv \\\n",
    "--actions_to_perform /home/packerc/shared/season_captures/{SITE}/captures/{SEASON}_actions_to_perform.csv \\\n",
    "--log_dir /home/packerc/shared/season_captures/{SITE}/log_files/"
   ]
  },
  {
   "cell_type": "code",
   "execution_count": null,
   "metadata": {},
   "outputs": [],
   "source": [
    "# Update Captures\n",
    "!python3 -m pre_processing.update_captures \\\n",
    "--captures /home/packerc/shared/season_captures/{SITE}/captures/{SEASON}_captures.csv \\\n",
    "--captures_updated /home/packerc/shared/season_captures/{SITE}/captures/{SEASON}_captures_updated.csv \\\n",
    "--log_dir /home/packerc/shared/season_captures/{SITE}/log_files/"
   ]
  },
  {
   "cell_type": "code",
   "execution_count": null,
   "metadata": {},
   "outputs": [],
   "source": [
    "# Create Cleaned File\n",
    "cp /home/packerc/shared/season_captures/{SITE}/captures/{SEASON}_captures_updated.csv /home/packerc/shared/season_captures/{SITE}/cleaned/{SEASON}_captures_cleaned.csv"
   ]
  },
  {
   "cell_type": "code",
   "execution_count": null,
   "metadata": {},
   "outputs": [],
   "source": [
    "# (optional) Start over if issues persist\n",
    "!python3 -m pre_processing.create_action_list \\\n",
    "--captures /home/packerc/shared/season_captures/{SITE}/captures/{SEASON}_captures_updated.csv \\\n",
    "--action_list_csv /home/packerc/shared/season_captures/{SITE}/captures/{SEASON}_action_list2.csv \\\n",
    "--log_dir /home/packerc/shared/season_captures/{SITE}/log_files/"
   ]
  },
  {
   "cell_type": "markdown",
   "metadata": {},
   "source": [
    "## Upload Data to Zooniverse\n",
    "\n",
    "The following codes can be used to upload data to Zooniverse."
   ]
  },
  {
   "cell_type": "code",
   "execution_count": null,
   "metadata": {},
   "outputs": [],
   "source": [
    "!python3 -m zooniverse_uploads.generate_manifest \\\n",
    "--captures_csv /home/packerc/shared/season_captures/{SITE}/cleaned/{SEASON}_cleaned.csv \\\n",
    "--output_manifest_dir /home/packerc/shared/zooniverse/Manifests/{SITE}/ \\\n",
    "--images_root_path /home/packerc/shared/albums/{SITE}/ \\\n",
    "--log_dir /home/packerc/shared/zooniverse/Manifests/{SITE}/ \\\n",
    "--manifest_id {SEASON} \\\n",
    "--attribution {ATTRIBUTION} \\\n",
    "--license {LICENSE}"
   ]
  },
  {
   "cell_type": "code",
   "execution_count": null,
   "metadata": {},
   "outputs": [],
   "source": [
    "# (Optional) - Generate machine learning file\n",
    "!python3 -m zooniverse_uploads.create_machine_learning_file \\\n",
    "--manifest /home/packerc/shared/zooniverse/Manifests/{SITE}/{SEASON}__complete__manifest.json"
   ]
  },
  {
   "cell_type": "code",
   "execution_count": null,
   "metadata": {},
   "outputs": [],
   "source": [
    "# Generating Predictions -- Need to Run in a separate Terminal"
   ]
  },
  {
   "cell_type": "code",
   "execution_count": null,
   "metadata": {},
   "outputs": [],
   "source": [
    "# Add model predictions to Manifest\n",
    "!python3 -m zooniverse_uploads.add_predictions_to_manifest \\\n",
    "--manifest /home/packerc/shared/zooniverse/Manifests/{SITE}/{SEASON}__complete__manifest.json"
   ]
  },
  {
   "cell_type": "code",
   "execution_count": null,
   "metadata": {},
   "outputs": [],
   "source": [
    "# Split / Batch Manifest\n",
    "!python3 -m zooniverse_uploads.split_manifest_into_batches \\\n",
    "--manifest /home/packerc/shared/zooniverse/Manifests/{SITE}/{SEASON}__complete__manifest.json \\\n",
    "--log_dir /home/packerc/shared/zooniverse/Manifests/{SITE}/ \\\n",
    "--max_batch_size 20000"
   ]
  },
  {
   "cell_type": "code",
   "execution_count": null,
   "metadata": {},
   "outputs": [],
   "source": [
    "# Upload Manifest\n",
    "!python3 -m zooniverse_uploads.upload_manifest \\\n",
    "--manifest /home/packerc/shared/zooniverse/Manifests/{SITE}/{SEASON}__complete__manifest.json \\\n",
    "--log_dir /home/packerc/shared/zooniverse/Manifests/{SITE}/ \\\n",
    "--project_id {PROJECT_ID} \\\n",
    "--password_file ~/keys/passwords.ini \\\n",
    "--image_root_path /home/packerc/shared/albums/{SITE}/"
   ]
  },
  {
   "cell_type": "code",
   "execution_count": null,
   "metadata": {},
   "outputs": [],
   "source": [
    "# We need to specify the subject_set_id in case of a failure\n",
    "SUBJECT_SET_ID=''"
   ]
  },
  {
   "cell_type": "code",
   "execution_count": null,
   "metadata": {},
   "outputs": [],
   "source": [
    "# In case of an error when uploading the Manifest\n",
    "!python3 -m zooniverse_uploads.upload_manifest \\\n",
    "--manifest /home/packerc/shared/zooniverse/Manifests/{SITE}/{SEASON}__complete__manifest.json \\\n",
    "--log_dir /home/packerc/shared/zooniverse/Manifests/{SITE}/ \\\n",
    "--project_id {PROJECT_ID} \\\n",
    "--subject_set_id {SUBJECT_SET_ID} \\\n",
    "--image_root_path /home/packerc/shared/albums/{SITE}/ \\\n",
    "--password_file ~/keys/passwords.ini"
   ]
  },
  {
   "cell_type": "markdown",
   "metadata": {},
   "source": [
    "## Download Zooniverse Data\n",
    "\n",
    "We can download Zooniverse data through Python. However, we first need to request the \"Classification\", as well as the \"Subject\" export on Zooniverse and wait for the mails indicating the exports are ready."
   ]
  },
  {
   "cell_type": "code",
   "execution_count": null,
   "metadata": {},
   "outputs": [],
   "source": [
    "# Download Classifications\n",
    "!python3 -m zooniverse_exports.get_zooniverse_export \\\n",
    "--password_file ~/keys/passwords.ini \\\n",
    "--project_id {PROJECT_ID} \\\n",
    "--output_file /home/packerc/shared/zooniverse/Exports/{SITE}/{SEASON}_classifications.csv \\\n",
    "--export_type classifications \\\n",
    "--log_dir /home/packerc/shared/zooniverse/Exports/{SITE}/"
   ]
  },
  {
   "cell_type": "code",
   "execution_count": null,
   "metadata": {},
   "outputs": [],
   "source": [
    "# Get Zooniverse Subject Data\n",
    "!python3 -m zooniverse_exports.get_zooniverse_export \\\n",
    "--password_file ~/keys/passwords.ini \\\n",
    "--project_id {PROJECT_ID} \\\n",
    "--output_file /home/packerc/shared/zooniverse/Exports/{SITE}/{SEASON}_subjects.csv \\\n",
    "--export_type subjects \\\n",
    "--log_dir /home/packerc/shared/zooniverse/Exports/{SITE}/"
   ]
  },
  {
   "cell_type": "code",
   "execution_count": null,
   "metadata": {},
   "outputs": [],
   "source": [
    "# (Optional) Get Worfklow ID / Worfklow Version\n",
    "!python3 -m zooniverse_exports.extract_annotations \\\n",
    "--classification_csv /home/packerc/shared/zooniverse/Exports/{SITE}/{SEASON}_classifications.csv \\\n",
    "--output_csv /home/packerc/shared/zooniverse/Exports/{SITE}/{SEASON}_annotations.csv"
   ]
  },
  {
   "cell_type": "code",
   "execution_count": null,
   "metadata": {},
   "outputs": [],
   "source": [
    "# Extract Annotations\n",
    "!python3 -m zooniverse_exports.extract_annotations \\\n",
    "--classification_csv /home/packerc/shared/zooniverse/Exports/{SITE}/{SEASON}_classifications.csv \\\n",
    "--output_csv /home/packerc/shared/zooniverse/Exports/{SITE}/{SEASON}_annotations.csv \\\n",
    "--workflow_id {WORKFLOW_ID} \\\n",
    "--workflow_version_min {WORKFLOW_VERSION_MIN}"
   ]
  },
  {
   "cell_type": "code",
   "execution_count": null,
   "metadata": {},
   "outputs": [],
   "source": [
    "# Extract Subject Data\n",
    "!python3 -m zooniverse_exports.extract_subjects \\\n",
    "--subject_csv /home/packerc/shared/zooniverse/Exports/{SITE}/{SEASON}_subjects.csv \\\n",
    "--output_csv /home/packerc/shared/zooniverse/Exports/{SITE}/{SEASON}_subjects_extracted.csv"
   ]
  },
  {
   "cell_type": "markdown",
   "metadata": {},
   "source": [
    "## Aggregate Annotations\n",
    "\n",
    "The following codes are for aggregating annotations using the plurality algorithm."
   ]
  },
  {
   "cell_type": "code",
   "execution_count": null,
   "metadata": {},
   "outputs": [],
   "source": [
    "\n",
    "!python3 -m zooniverse_aggregations.aggregate_annotations_plurality \\\n",
    "--annotations /home/packerc/shared/zooniverse/Exports/{SITE}/{SEASON}_annotations.csv \\\n",
    "--output_csv /home/packerc/shared/zooniverse/Aggregations/{SITE}/{SEASON}_annotations_aggregated_plurality.csv \\\n",
    "--log_dir /home/packerc/shared/zooniverse/Aggregations/{SITE}/"
   ]
  },
  {
   "cell_type": "code",
   "execution_count": null,
   "metadata": {},
   "outputs": [],
   "source": [
    "# Now we add subject infos to the aggregations\n",
    "!python3 -m zooniverse_exports.merge_csvs \\\n",
    "--base_csv /home/packerc/shared/zooniverse/Aggregations/{SITE}/{SEASON}_annotations_aggregated_plurality.csv \\\n",
    "--to_add_csv /home/packerc/shared/zooniverse/Exports/{SITE}/{SEASON}_subjects_extracted.csv \\\n",
    "--output_csv /home/packerc/shared/zooniverse/Aggregations/{SITE}/{SEASON}_annotations_aggregated_plurality_info.csv \\\n",
    "--key subject_id"
   ]
  },
  {
   "cell_type": "markdown",
   "metadata": {},
   "source": [
    "## Create Reports\n",
    "\n",
    "The following codes create several reports by joining subject / season data to the aggregated annotations."
   ]
  },
  {
   "cell_type": "code",
   "execution_count": null,
   "metadata": {},
   "outputs": [],
   "source": [
    "# Reporting of Zooniverse exports - All Captures\n",
    "!python3 -m reporting.add_aggregations_to_season_captures \\\n",
    "--season_captures_csv /home/packerc/shared/season_captures/{SITE}/cleaned/{SEASON}_cleaned.csv \\\n",
    "--aggregated_csv /home/packerc/shared/zooniverse/Aggregations/{SITE}/{SEASON}_annotations_aggregated_plurality_info.csv \\\n",
    "--output_csv /home/packerc/shared/zooniverse/ConsensusReports/{SITE}/{SEASON}_report_all.csv \\\n",
    "--log_dir /home/packerc/shared/zooniverse/ConsensusReports/{SITE}/ \\\n",
    "--default_season_id {SEASON} \\\n",
    "--deduplicate_subjects"
   ]
  },
  {
   "cell_type": "code",
   "execution_count": null,
   "metadata": {},
   "outputs": [],
   "source": [
    "# Create Report Statistics\n",
    "!python3 -m reporting.create_report_stats \\\n",
    "--report_path /home/packerc/shared/zooniverse/ConsensusReports/{SITE}/{SEASON}_report_all.csv \\\n",
    "--output_csv /home/packerc/shared/zooniverse/ConsensusReports/{SITE}/{SEASON}_report_all_stats.csv \\\n",
    "--log_dir /home/packerc/shared/zooniverse/ConsensusReports/{SITE}/"
   ]
  },
  {
   "cell_type": "code",
   "execution_count": null,
   "metadata": {},
   "outputs": [],
   "source": [
    "# Reporting of Zooniverse exports - Only Consensus (and blanks)\n",
    "!python3 -m reporting.add_aggregations_to_season_captures \\\n",
    "--season_captures_csv /home/packerc/shared/season_captures/{SITE}/cleaned/{SEASON}_cleaned.csv \\\n",
    "--aggregated_csv /home/packerc/shared/zooniverse/Aggregations/{SITE}/{SEASON}_annotations_aggregated_plurality_info.csv \\\n",
    "--output_csv /home/packerc/shared/zooniverse/ConsensusReports/{SITE}/{SEASON}_report_all.csv \\\n",
    "--log_dir /home/packerc/shared/zooniverse/ConsensusReports/{SITE}/ \\\n",
    "--default_season_id {SEASON} \\\n",
    "--export_only_with_aggregations \\\n",
    "--deduplicate_subjects \\\n",
    "--export_only_consensus"
   ]
  },
  {
   "cell_type": "code",
   "execution_count": null,
   "metadata": {},
   "outputs": [],
   "source": [
    "# Create Report Statistics\n",
    "!python3 -m reporting.create_report_stats \\\n",
    "--report_path /home/packerc/shared/zooniverse/ConsensusReports/{SITE}/{SEASON}_report.csv \\\n",
    "--output_csv /home/packerc/shared/zooniverse/ConsensusReports/{SITE}/{SEASON}_report_stats.csv \\\n",
    "--log_dir /home/packerc/shared/zooniverse/ConsensusReports/{SITE}/"
   ]
  },
  {
   "cell_type": "code",
   "execution_count": null,
   "metadata": {},
   "outputs": [],
   "source": [
    "# Create a Sample Report\n",
    "!python3 -m reporting.sample_report \\\n",
    "--report_csv /home/packerc/shared/zooniverse/ConsensusReports/{SITE}/{SEASON}_report.csv \\\n",
    "--output_csv /home/packerc/shared/zooniverse/ConsensusReports/{SITE}/{SEASON}_report_samples.csv \\\n",
    "--sample_size 300 \\\n",
    "--log_dir /home/packerc/shared/zooniverse/ConsensusReports/{SITE}/"
   ]
  },
  {
   "cell_type": "code",
   "execution_count": null,
   "metadata": {},
   "outputs": [],
   "source": [
    "# Reporting of Zooniverse exports - only captures with consensus species\n",
    "!python3 -m reporting.add_aggregations_to_season_captures \\\n",
    "--season_captures_csv /home/packerc/shared/season_captures/{SITE}/cleaned/{SEASON}_cleaned.csv \\\n",
    "--aggregated_csv /home/packerc/shared/zooniverse/Aggregations/{SITE}/{SEASON}_annotations_aggregated_plurality_info.csv \\\n",
    "--output_csv /home/packerc/shared/zooniverse/ConsensusReports/{SITE}/{SEASON}_report_species.csv \\\n",
    "--log_dir /home/packerc/shared/zooniverse/ConsensusReports/{SITE}/ \\\n",
    "--default_season_id {SEASON} \\\n",
    "--export_only_species \\\n",
    "--deduplicate_subjects \\\n",
    "--export_only_consensus"
   ]
  },
  {
   "cell_type": "code",
   "execution_count": null,
   "metadata": {},
   "outputs": [],
   "source": [
    "# Create Report Statistics\n",
    "!python3 -m reporting.create_report_stats \\\n",
    "--report_path /home/packerc/shared/zooniverse/ConsensusReports/{SITE}/{SEASON}_report_species.csv \\\n",
    "--output_csv /home/packerc/shared/zooniverse/ConsensusReports/{SITE}/{SEASON}_report_species_stats.csv \\\n",
    "--log_dir /home/packerc/shared/zooniverse/ConsensusReports/{SITE}/"
   ]
  },
  {
   "cell_type": "code",
   "execution_count": null,
   "metadata": {},
   "outputs": [],
   "source": [
    "# Create a Sample Report\n",
    "!python3 -m reporting.sample_report \\\n",
    "--report_csv /home/packerc/shared/zooniverse/ConsensusReports/{SITE}/{SEASON}_report_species.csv \\\n",
    "--output_csv /home/packerc/shared/zooniverse/ConsensusReports/{SITE}/{SEASON}_report_species_samples.csv \\\n",
    "--sample_size 300 \\\n",
    "--log_dir /home/packerc/shared/zooniverse/ConsensusReports/{SITE}/"
   ]
  }
 ],
 "metadata": {
  "kernelspec": {
   "display_name": "Python 3.6",
   "language": "python",
   "name": "python3"
  },
  "language_info": {
   "codemirror_mode": {
    "name": "ipython",
    "version": 3
   },
   "file_extension": ".py",
   "mimetype": "text/x-python",
   "name": "python",
   "nbconvert_exporter": "python",
   "pygments_lexer": "ipython3",
   "version": "3.6.3"
  }
 },
 "nbformat": 4,
 "nbformat_minor": 1
}
